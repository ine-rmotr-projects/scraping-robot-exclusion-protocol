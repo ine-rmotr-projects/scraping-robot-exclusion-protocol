{
 "cells": [
  {
   "cell_type": "markdown",
   "metadata": {},
   "source": [
    "![ine-divider](https://user-images.githubusercontent.com/7065401/92672068-398e8080-f2ee-11ea-82d6-ad53f7feb5c0.png)\n",
    "<hr>\n",
    "\n",
    "# Web scraping in Python\n",
    "\n",
    "## Robot exclusion protocol\n",
    "\n",
    "In this project you will perform some web scraping with a sensitivity to robot exclusion rules."
   ]
  },
  {
   "cell_type": "markdown",
   "metadata": {},
   "source": [
    "![orange-divider](https://user-images.githubusercontent.com/7065401/92672455-187a5f80-f2ef-11ea-890c-40be9474f7b7.png)"
   ]
  },
  {
   "cell_type": "markdown",
   "metadata": {},
   "source": [
    "## Finding multiple contact pages \n",
    "\n",
    "For this task, you should construct a robot to do the following steps:\n",
    "\n",
    "1. Peform a search of a popular search engine, such as Google, Yandex, or Baidu, for a term you pass in.\n",
    "2. Collect all the results for the term (a first page worth of results is fine).\n",
    "3. Extract the domains from the results\n",
    "4. Determine if you are permitted to request the \"Contact\" page for the site.  E.g. `http://example.com/contact`. For the check, determine this permission for at least the following user agents:\n",
    "   * MyRobot\n",
    "   * Fetch\n",
    "   * Microsoft.URL.Control\n",
    "   * Xenu\n",
    "5. If you are permitted to request that resource, determine if it exists at all.\n",
    "6. Create a table of possible answers, with values PROHIBITED, NON-EXISTENT, PERMITTED for each user agent and domain.\n",
    "\n",
    "Such a table might look something like this:\n",
    "\n",
    "```python\n",
    ">>> permissions = term_permissions('robots', 'google.com')\n",
    ">>> pd.DataFrame(permissions).sample(10)\n",
    "```\n",
    "\n",
    "<table border=\"1\" class=\"dataframe\">\n",
    "  <thead>\n",
    "    <tr style=\"text-align: right;\">\n",
    "      <th></th>\n",
    "      <th>Agent</th>\n",
    "      <th>Domain</th>\n",
    "      <th>Status</th>\n",
    "    </tr>\n",
    "  </thead>\n",
    "  <tbody>\n",
    "    <tr>\n",
    "      <th>82</th>\n",
    "      <td>MyRobot</td>\n",
    "      <td>spectrum.ieee.org</td>\n",
    "      <td>PERMITTED</td>\n",
    "    </tr>\n",
    "    <tr>\n",
    "      <th>111</th>\n",
    "      <td>Fetch</td>\n",
    "      <td>m.imdb.com</td>\n",
    "      <td>NON-EXISTENT</td>\n",
    "    </tr>\n",
    "    <tr>\n",
    "      <th>24</th>\n",
    "      <td>Microsoft.URL.Control</td>\n",
    "      <td>en.wikipedia.org</td>\n",
    "      <td>PROHIBITED</td>\n",
    "    </tr>\n",
    "    <tr>\n",
    "      <th>92</th>\n",
    "      <td>Microsoft.URL.Control</td>\n",
    "      <td>spectrum.ieee.org</td>\n",
    "      <td>PERMITTED</td>\n",
    "    </tr>\n",
    "    <tr>\n",
    "      <th>81</th>\n",
    "      <td>Xenu</td>\n",
    "      <td>spectrum.ieee.org</td>\n",
    "      <td>PERMITTED</td>\n",
    "    </tr>\n",
    "    <tr>\n",
    "      <th>65</th>\n",
    "      <td>Xenu</td>\n",
    "      <td>abcstlouis.com</td>\n",
    "      <td>NON-EXISTENT</td>\n",
    "    </tr>\n",
    "    <tr>\n",
    "      <th>20</th>\n",
    "      <td>Microsoft.URL.Control</td>\n",
    "      <td>builtin.com</td>\n",
    "      <td>PROHIBITED</td>\n",
    "    </tr>\n",
    "    <tr>\n",
    "      <th>14</th>\n",
    "      <td>MyRobot</td>\n",
    "      <td>www.wired.com</td>\n",
    "      <td>PROHIBITED</td>\n",
    "    </tr>\n",
    "    <tr>\n",
    "      <th>39</th>\n",
    "      <td>Fetch</td>\n",
    "      <td>maps.google.com</td>\n",
    "      <td>PROHIBITED</td>\n",
    "    </tr>\n",
    "    <tr>\n",
    "      <th>38</th>\n",
    "      <td>MyRobot</td>\n",
    "      <td>maps.google.com</td>\n",
    "      <td>PROHIBITED</td>\n",
    "    </tr>\n",
    "  </tbody>\n",
    "</table>"
   ]
  },
  {
   "cell_type": "code",
   "execution_count": null,
   "metadata": {},
   "outputs": [],
   "source": [
    "# Your code here..."
   ]
  },
  {
   "cell_type": "markdown",
   "metadata": {},
   "source": [
    "![orange-divider](https://user-images.githubusercontent.com/7065401/92672455-187a5f80-f2ef-11ea-890c-40be9474f7b7.png)"
   ]
  }
 ],
 "metadata": {
  "kernelspec": {
   "display_name": "Python 3",
   "language": "python",
   "name": "python3"
  },
  "language_info": {
   "codemirror_mode": {
    "name": "ipython",
    "version": 3
   },
   "file_extension": ".py",
   "mimetype": "text/x-python",
   "name": "python",
   "nbconvert_exporter": "python",
   "pygments_lexer": "ipython3",
   "version": "3.8.6"
  }
 },
 "nbformat": 4,
 "nbformat_minor": 4
}
